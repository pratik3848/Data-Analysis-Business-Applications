{
 "cells": [
  {
   "cell_type": "markdown",
   "metadata": {},
   "source": [
    "# Customer Service Staffing using Poisson Distribution"
   ]
  },
  {
   "cell_type": "markdown",
   "metadata": {},
   "source": [
    "Consider a customer call center which works 24*7 and answers to customer queries.\n",
    "The call center recieves 'n' number of calls which are of different length.\n",
    "Some calls need more than 10 minutes to handle. \n",
    "Due to this longer duration calls other customers might need to be on hold as the agents are busy.\n",
    "Let's consider an interval of 1 hour and the average number of 10 minute calls per hour is 6.\n",
    "In this case lambda λ = 6/hour\n",
    "Using poisson distribution lets find the maximum number of 10 minute calls we can expect in an hour."
   ]
  },
  {
   "cell_type": "code",
   "execution_count": 18,
   "metadata": {},
   "outputs": [
    {
     "name": "stdout",
     "output_type": "stream",
     "text": [
      "The probability of 3 calls in 60 minutes is 8.92%.\n"
     ]
    }
   ],
   "source": [
    "import pandas as pd\n",
    "import numpy as np\n",
    "from scipy.special import factorial\n",
    "\n",
    "events_per_minute = 1/10\n",
    "minutes = 60\n",
    "\n",
    "# Expected events\n",
    "lam = events_per_minute * minutes\n",
    "\n",
    "k = 3\n",
    "p_k = np.exp(-lam) * np.power(lam, k) / factorial(k)\n",
    "print(f'The probability of {k} calls in {minutes} minutes is {100*p_k:.2f}%.')"
   ]
  },
  {
   "cell_type": "markdown",
   "metadata": {},
   "source": [
    "We can do the same calculation by simulating 10,000 hours."
   ]
  },
  {
   "cell_type": "code",
   "execution_count": 19,
   "metadata": {},
   "outputs": [],
   "source": [
    "np.random.seed(42)"
   ]
  },
  {
   "cell_type": "code",
   "execution_count": 20,
   "metadata": {},
   "outputs": [
    {
     "data": {
      "text/plain": [
       "9.379999999999999"
      ]
     },
     "execution_count": 20,
     "metadata": {},
     "output_type": "execute_result"
    }
   ],
   "source": [
    "x = np.random.poisson(lam, 10000)\n",
    "(x == 3).mean()*100"
   ]
  },
  {
   "cell_type": "markdown",
   "metadata": {},
   "source": [
    "Let's plot the distribution for different values of number of calls to get an estimation for staffing."
   ]
  },
  {
   "cell_type": "code",
   "execution_count": 21,
   "metadata": {},
   "outputs": [
    {
     "data": {
      "text/plain": [
       "<AxesSubplot:>"
      ]
     },
     "execution_count": 21,
     "metadata": {},
     "output_type": "execute_result"
    },
    {
     "data": {
      "image/png": "[encoded data removed]",
      "text/plain": [
       "<Figure size 432x288 with 1 Axes>"
      ]
     },
     "metadata": {
      "needs_background": "light"
     },
     "output_type": "display_data"
    }
   ],
   "source": [
    "import seaborn as sns\n",
    "number_of_calls=np.arange(1,21)\n",
    "events_per_minute = 1/10\n",
    "minutes = 60\n",
    "\n",
    "# Expected events\n",
    "lam = events_per_minute * minutes\n",
    "\n",
    "def cal_prob(k):\n",
    "    return(np.exp(-lam) * np.power(lam, k) / factorial(k))\n",
    "\n",
    "probabilities=[]\n",
    "for call in number_of_calls:\n",
    "    probabilities.append(cal_prob(call))\n",
    "\n",
    "sns.barplot(x=number_of_calls,y=probabilities)"
   ]
  },
  {
   "cell_type": "markdown",
   "metadata": {},
   "source": [
    "As per the plot we can see maximum number of calls that is expected value E[x] is 6.\n",
    "So at any hour the customer service center must have minimum 6 agents available so that other customers need not be on hold."
   ]
  },
  {
   "cell_type": "markdown",
   "metadata": {},
   "source": [
    "# Using Poisson distribution to find if its financially viable to keep a store open 24 hours a day"
   ]
  },
  {
   "cell_type": "markdown",
   "metadata": {},
   "source": [
    "Let's consider a supermaket that is open 24*7.\n",
    "\n",
    "The store employees 2 employees for every shift.\n",
    "\n",
    "Shift timings include : 8 am - 4pm, 4pm-12pm, 12pm- 8am\n",
    "\n",
    "For each shift 2 employees work at the store with a monthly salary of 12000 INR."
   ]
  },
  {
   "cell_type": "markdown",
   "metadata": {},
   "source": [
    "## Store electricity consumption:"
   ]
  },
  {
   "cell_type": "markdown",
   "metadata": {},
   "source": [
    "\n",
    "Consider the store has- \n",
    "\n",
    "\n",
    "1) 10 Fans : An average size ceiling fan has rated power of 70 watts and for 8 hours of operation they consumes 0.56 kWh of power.\n",
    "\n",
    "2) 14 Tubelights of 40 watts each : 40 watts of power over 8 hours amounts to 8 x 40 = 320 watt-hours of energy, or 320/1000 = .32 kilowatt-hour (kwh) of energy.\n",
    "\n",
    "3) 2 commercial refrigerator 300 watts each: 300 watts of power over 8 hours amounts to 8 x 300 = 2400 watt-hours of energy, or 2400/1000 = 2.4 kilowatt-hour (kwh) of energy.\n",
    "\n",
    "4) Billing computer and other small electric appliances:  30 watts of power over 8 hours amounts to 8 x 30 = 240 watt-hours of energy, or 240/1000 = 0.24 kilowatt-hour (kwh) of energy.\n"
   ]
  },
  {
   "cell_type": "markdown",
   "metadata": {},
   "source": [
    "Enery consumption calculation:\n",
    "\n",
    "|Consumer Category & Consumption Slab | Energy Charge (Rs/kWh)  | \n",
    "| --- | --- | \n",
    "| 0-100 |  4.67 |\n",
    "| 101-300\t |  6.02 |\n",
    "| 301-500 |  7.15 |\n",
    "| 500 and above | 8.90|"
   ]
  },
  {
   "cell_type": "markdown",
   "metadata": {},
   "source": [
    "Electricy cost as per appliances:\n",
    "\n",
    "    1) Fans = 0.56*10*4.67 = 26.152 INR\n",
    "    2) Tubelights = 14*0.32*4.67 = 20.9216 INR\n",
    "    3) Commercial refrigerators = 2.4*2*4.67 = 22.41 INR\n",
    "    4) Billing computer and other small electric appliances = 0.24 * 4.67 = 1.12 INR\n",
    "    \n",
    "Overall cost = 70.602 INR"
   ]
  },
  {
   "cell_type": "markdown",
   "metadata": {},
   "source": [
    "Employee cost for 8 hour midnight shift:\n",
    "\n",
    "Monthly salary = 12000 INR\n",
    "\n",
    "Per day salary = 400\n",
    "\n",
    "For 2 employees= 800 INR"
   ]
  },
  {
   "cell_type": "markdown",
   "metadata": {},
   "source": [
    "### Overall cost of store for a shift = 800 + 70.602 = 870.6 INR"
   ]
  },
  {
   "cell_type": "markdown",
   "metadata": {},
   "source": [
    "So for the supermarket to be in profit they need to cover the minimum cost of 870.6 INR in every shift and also earn resonable profit from the sales.\n",
    "\n",
    "Each shift will have different average sales as the number of customers varies as per the time.\n",
    "\n",
    "The supermarket will be definetely kept opened for the 1st 2 shifts, the main question arises that is it viable to keep the store open at night time as well. As generally the sales will be less during the night shift.\n",
    "\n",
    "Consider the average sales of the store at night is 8000 INR. (Just an assumption)\n",
    "\n",
    "The profit margin for the grocery stores in India ranges from 2% to 20%.\n",
    "\n",
    "Let's assume that the supermarket makes a 11% profit for every sale.\n",
    "\n",
    "This percentage may vary with different items but let's consider an average of 11%.\n",
    "\n",
    "So, considering the sales of 8000 INR, 11% will be 880 INR.\n",
    "\n"
   ]
  },
  {
   "cell_type": "markdown",
   "metadata": {},
   "source": [
    "### According to this scenario the store makes an overall profit of 880-870 = 10 INR for the night shift."
   ]
  },
  {
   "cell_type": "markdown",
   "metadata": {},
   "source": [
    "This will be valid if the store makes minimum sales of 8500 INR every night.\n",
    "\n",
    "Using poisson distribution let's find out what is the minimum sales the store can make.\n",
    "\n",
    "Here the lambda (λ) = 8000, as this value is greater than 20 so we could use the normal approximation to poisson distribution."
   ]
  },
  {
   "cell_type": "markdown",
   "metadata": {},
   "source": [
    "### Normal approximation to poisson distribution"
   ]
  },
  {
   "cell_type": "code",
   "execution_count": 22,
   "metadata": {
    "scrolled": true
   },
   "outputs": [
    {
     "data": {
      "image/png": "[encoded data removed]",
      "text/plain": [
       "<Figure size 432x288 with 1 Axes>"
      ]
     },
     "metadata": {
      "needs_background": "light"
     },
     "output_type": "display_data"
    }
   ],
   "source": [
    "import matplotlib.pyplot as plt\n",
    "import numpy as np\n",
    "import scipy.stats as stats\n",
    "import math\n",
    "\n",
    "mu = 8000\n",
    "variance = 8000\n",
    "std = math.sqrt(variance)\n",
    "x = np.linspace(mu - 3*std, mu + 3*std)\n",
    "plt.plot(x, stats.norm.pdf(x, mu, std))\n",
    "plt.show()\n"
   ]
  },
  {
   "cell_type": "markdown",
   "metadata": {},
   "source": [
    "Using the above approximation we will find out the probability of the minimum sales required in order to cover the overall cost of the supermarket.\n",
    "\n",
    "The supermarket requires a minimum profit of 870 INR to cover its cost for the midnight shift.\n",
    "\n",
    "So, with the profit margin of 11% on sales, the supermarket needs to sale items worth 7909 INR."
   ]
  },
  {
   "cell_type": "markdown",
   "metadata": {},
   "source": [
    "## Calculating probability that the store makes minimum 7909 INR"
   ]
  },
  {
   "cell_type": "markdown",
   "metadata": {},
   "source": [
    "Using normal distribution it is difficult to calculate the exact probability that the supermarket makes 7909 INR, so we need to convert the distribution to Standard Normal Distribution with a μ = 0 and σ = 1\n",
    "\n",
    "We can do this using Z score:\n",
    "$$ Z = (X(i) - μ) / σ $$\n",
    "\n",
    "Here, we need to apply continuity correction as we are approximationg Poisson to normal distribution.\n",
    "\n",
    "We need to find P(X>=7909) -> P(X > 7908.5) , according to continuity correction rules.\n",
    "\n",
    "So, Z score for :\n",
    "\n",
    "P( X > 7908.5) = P( Z > ((7908.5 - 8000)/89.44)) = P( Z > -1.02) = P( Z < 1.02) = 0.8461\n",
    "\n",
    "There is 84.61% chance that the supermarket will be able to cover its cost.\n",
    "\n",
    "So it is viable for the supermarket to be open at night as well as it has high probability that it can cover its overall cost and gain profit as well."
   ]
  },
  {
   "cell_type": "markdown",
   "metadata": {},
   "source": [
    "### Conclusion "
   ]
  },
  {
   "cell_type": "markdown",
   "metadata": {},
   "source": [
    "Using above calculation we can find out the probabilities of different profit margins that the supermarket can make.\n",
    "\n",
    "This is the business application of Poisson Distribution"
   ]
  },
  {
   "cell_type": "code",
   "execution_count": null,
   "metadata": {},
   "outputs": [],
   "source": []
  }
 ],
 "metadata": {
  "kernelspec": {
   "display_name": "Python 3",
   "language": "python",
   "name": "python3"
  },
  "language_info": {
   "codemirror_mode": {
    "name": "ipython",
    "version": 3
   },
   "file_extension": ".py",
   "mimetype": "text/x-python",
   "name": "python",
   "nbconvert_exporter": "python",
   "pygments_lexer": "ipython3",
   "version": "3.8.5"
  }
 },
 "nbformat": 4,
 "nbformat_minor": 4
}
